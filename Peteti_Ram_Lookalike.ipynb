{
  "nbformat": 4,
  "nbformat_minor": 0,
  "metadata": {
    "colab": {
      "provenance": [],
      "mount_file_id": "1kMNgceQVPE9bUiqIZyFsLmmA9uu20KsQ",
      "authorship_tag": "ABX9TyPL6CbG3SK2OX32oZaBCoJa",
      "include_colab_link": true
    },
    "kernelspec": {
      "name": "python3",
      "display_name": "Python 3"
    },
    "language_info": {
      "name": "python"
    }
  },
  "cells": [
    {
      "cell_type": "markdown",
      "metadata": {
        "id": "view-in-github",
        "colab_type": "text"
      },
      "source": [
        "<a href=\"https://colab.research.google.com/github/RAM-1166/Zeotap_assignment/blob/main/Peteti_Ram_Lookalike.ipynb\" target=\"_parent\"><img src=\"https://colab.research.google.com/assets/colab-badge.svg\" alt=\"Open In Colab\"/></a>"
      ]
    },
    {
      "cell_type": "code",
      "execution_count": 1,
      "metadata": {
        "colab": {
          "base_uri": "https://localhost:8080/"
        },
        "id": "sEdD4G1uhobt",
        "outputId": "f83c2a68-f04a-4550-f737-61c9c6dc7720"
      },
      "outputs": [
        {
          "output_type": "stream",
          "name": "stdout",
          "text": [
            "Lookalike recommendations saved to Lookalike.csv!\n"
          ]
        }
      ],
      "source": [
        "import pandas as pd\n",
        "from sklearn.metrics.pairwise import cosine_similarity\n",
        "from sklearn.preprocessing import MinMaxScaler\n",
        "\n",
        "# Load datasets\n",
        "customers = pd.read_csv(\"/content/drive/MyDrive/Zeotap/Customers.csv\")\n",
        "products = pd.read_csv(\"/content/drive/MyDrive/Zeotap/Products.csv\")\n",
        "transactions = pd.read_csv(\"/content/drive/MyDrive/Zeotap/Transactions.csv\")\n",
        "\n",
        "# Merge datasets\n",
        "merged_data = transactions.merge(products, on='ProductID', how='left').merge(customers, on='CustomerID', how='left')\n",
        "\n",
        "# Aggregate customer-level features\n",
        "customer_features = merged_data.groupby('CustomerID').agg(\n",
        "    TotalSpent=('TotalValue', 'sum'),\n",
        "    TotalTransactions=('TransactionID', 'count'),\n",
        "    AvgTransactionValue=('TotalValue', 'mean'),\n",
        "    TotalQuantity=('Quantity', 'sum'),\n",
        "    UniqueCategories=('Category', 'nunique'),\n",
        "    Region=('Region', 'first')\n",
        ").reset_index()\n",
        "\n",
        "# One-hot encode 'Region' to include in feature vector\n",
        "customer_features = pd.get_dummies(customer_features, columns=['Region'])\n",
        "\n",
        "# Normalize numeric features for similarity computation\n",
        "scaler = MinMaxScaler()\n",
        "normalized_features = scaler.fit_transform(customer_features.drop(columns=['CustomerID']))\n",
        "\n",
        "# Compute cosine similarity\n",
        "similarity_matrix = cosine_similarity(normalized_features)\n",
        "\n",
        "# Generate recommendations for the first 20 customers\n",
        "lookalike_map = {}\n",
        "customer_ids = customer_features['CustomerID'].tolist()\n",
        "\n",
        "for idx, customer_id in enumerate(customer_ids[:20]):  # First 20 customers (C0001 - C0020)\n",
        "    # Get similarity scores for the current customer\n",
        "    similarity_scores = list(enumerate(similarity_matrix[idx]))\n",
        "\n",
        "    # Exclude the customer themselves and sort by similarity score\n",
        "    sorted_scores = sorted(\n",
        "        [(customer_ids[i], score) for i, score in similarity_scores if customer_ids[i] != customer_id],\n",
        "        key=lambda x: x[1],\n",
        "        reverse=True\n",
        "    )\n",
        "\n",
        "    # Take the top 3 similar customers\n",
        "    top_3 = sorted_scores[:3]\n",
        "    lookalike_map[customer_id] = top_3\n",
        "\n",
        "# Save the lookalike map to a CSV file\n",
        "lookalike_df = pd.DataFrame([\n",
        "    {\"cust_id\": cust_id, \"lookalikes\": str(lookalikes)}\n",
        "    for cust_id, lookalikes in lookalike_map.items()\n",
        "])\n",
        "lookalike_df.to_csv(\"Lookalike.csv\", index=False)\n",
        "\n",
        "print(\"Lookalike recommendations saved to Lookalike.csv!\")\n"
      ]
    }
  ]
}